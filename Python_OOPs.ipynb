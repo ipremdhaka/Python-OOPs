{
  "nbformat": 4,
  "nbformat_minor": 0,
  "metadata": {
    "colab": {
      "provenance": []
    },
    "kernelspec": {
      "name": "python3",
      "display_name": "Python 3"
    },
    "language_info": {
      "name": "python"
    }
  },
  "cells": [
    {
      "cell_type": "markdown",
      "source": [
        "##Python OOPs Theory Questions"
      ],
      "metadata": {
        "id": "mBSp5aC9y_sK"
      }
    },
    {
      "cell_type": "markdown",
      "source": [
        "### 1. What is Object-Oriented Programming (OOP)?\n",
        "\n",
        "Object-Oriented Programming (OOP) is a programming paradigm based on the concept of \"objects\", which can contain data (attributes) and code (methods). The goal of OOP is to structure a program into reusable and interconnected objects to increase modularity, flexibility, and maintainability.\n",
        "\n",
        "Example:\n",
        "```python\n",
        "class Car:\n",
        "    def drive(self):\n",
        "        print(\"Driving the car\")\n",
        "\n",
        "my_car = Car()\n",
        "my_car.drive()\n",
        "```"
      ],
      "metadata": {
        "id": "WIwsz_g-y85-"
      }
    },
    {
      "cell_type": "markdown",
      "source": [
        "### 2. What is a class in OOP?\n",
        "\n",
        "A class is a blueprint or template for creating objects. It defines attributes (variables) and behaviors (methods) that its objects will have.\n",
        "\n",
        "Example:\n",
        "```python\n",
        "class Dog:\n",
        "    def bark(self):\n",
        "        print(\"Woof!\")\n",
        "```"
      ],
      "metadata": {
        "id": "AAFwOTEEzKO8"
      }
    },
    {
      "cell_type": "markdown",
      "source": [
        "### 3. What is an object in OOP?\n",
        "\n",
        "An object is an instance of a class. It represents a specific entity that has attributes and behaviors defined by its class.\n",
        "\n",
        "Example:\n",
        "```python\n",
        "my_dog = Dog()\n",
        "my_dog.bark()\n",
        "```"
      ],
      "metadata": {
        "id": "FlUJyiX4zKfy"
      }
    },
    {
      "cell_type": "markdown",
      "source": [
        "### 4. What is the difference between abstraction and encapsulation?\n",
        "\n",
        "**Abstraction** hides the internal details and shows only essential features to the user.\n",
        "**Encapsulation** wraps the data and the methods that work on the data into a single unit (class) and restricts access to some of the object's components.\n",
        "\n",
        "Example:\n",
        "```python\n",
        "class ATM:\n",
        "    def __init__(self, balance):\n",
        "        self.__balance = balance  # Encapsulated\n",
        "\n",
        "    def check_balance(self):  # Abstracted functionality\n",
        "        return self.__balance\n",
        "```"
      ],
      "metadata": {
        "id": "-dSOagTVzKmF"
      }
    },
    {
      "cell_type": "markdown",
      "source": [
        "### 5. What are dunder methods in Python?\n",
        "\n",
        "Dunder methods (short for \"double underscore\") are special methods in Python that begin and end with double underscores, like `__init__`, `__str__`, and `__add__`. They're used to define behavior for built-in operations.\n",
        "Example:\n",
        "```python\n",
        "class Book:\n",
        "    def __init__(self, title):\n",
        "        self.title = title\n",
        "\n",
        "    def __str__(self):\n",
        "        return f\"Book: {self.title}\"\n",
        "```"
      ],
      "metadata": {
        "id": "U7pYOxrpzKpx"
      }
    },
    {
      "cell_type": "markdown",
      "source": [
        "### 6. Explain the concept of inheritance in OOP\n",
        "\n",
        "Inheritance allows a class (child) to acquire properties and behavior (methods) from another class (parent).\n",
        "\n",
        "Example:\n",
        "```python\n",
        "class Animal:\n",
        "    def speak(self):\n",
        "        print(\"Animal speaks\")\n",
        "\n",
        "class Dog(Animal):\n",
        "    def speak(self):\n",
        "        print(\"Dog barks\")\n",
        "```"
      ],
      "metadata": {
        "id": "_kS0DCbozKtI"
      }
    },
    {
      "cell_type": "markdown",
      "source": [
        "### 7. What is polymorphism in OOP?\n",
        "\n",
        "Polymorphism allows different classes to define methods with the same name but different behaviors.\n",
        "\n",
        "Example:\n",
        "```python\n",
        "class Bird:\n",
        "    def fly(self):\n",
        "        print(\"Flying in the sky\")\n",
        "\n",
        "class Penguin(Bird):\n",
        "    def fly(self):\n",
        "        print(\"Cannot fly\")\n",
        "```\n"
      ],
      "metadata": {
        "id": "BPjOJ0FhzKwL"
      }
    },
    {
      "cell_type": "markdown",
      "source": [
        "###8. How is encapsulation achieved in Python?\n",
        "\n",
        "Encapsulation is achieved by using private variables (`__var`) and public methods (getters/setters) to restrict direct access to internal data.\n",
        "\n",
        "Example:\n",
        "```python\n",
        "class Account:\n",
        "    def __init__(self):\n",
        "        self.__balance = 0\n",
        "\n",
        "    def deposit(self, amount):\n",
        "        self.__balance += amount\n",
        "```"
      ],
      "metadata": {
        "id": "Ya4Z120HzKy9"
      }
    },
    {
      "cell_type": "markdown",
      "source": [
        "###9. What is a constructor in Python?\n",
        "\n",
        "A constructor is a special method `__init__()` that is automatically called when a new object is created.\n",
        "\n",
        "Example:\n",
        "```python\n",
        "class Student:\n",
        "    def __init__(self, name):\n",
        "        self.name = name\n",
        "```"
      ],
      "metadata": {
        "id": "h3ApHFSAzK1_"
      }
    },
    {
      "cell_type": "markdown",
      "source": [
        "###10. What are class and static methods in Python?\n",
        "\n",
        "\n",
        "- A class method affects the class as a whole, using `@classmethod`.\n",
        "\n",
        "- A static method doesn’t affect the class or instance and is marked with `@staticmethod`.\n",
        "\n",
        "```python\n",
        "class Math:\n",
        "    @staticmethod\n",
        "    def add(a, b):\n",
        "        return a + b\n",
        "\n",
        "    @classmethod\n",
        "    def description(cls):\n",
        "        return \"Math class\"\n",
        "```"
      ],
      "metadata": {
        "id": "ocd6aIakzK44"
      }
    },
    {
      "cell_type": "markdown",
      "source": [
        "###11. What is method overloading in Python?\n",
        "\n",
        "Method overloading is defining multiple methods with the same name but different arguments. Python does not support it directly, but it can be mimicked.\n",
        "\n",
        "Example:\n",
        "```python\n",
        "class Example:\n",
        "    def greet(self, name=None):\n",
        "        if name:\n",
        "            print(f\"Hello {name}\")\n",
        "        else:\n",
        "            print(\"Hello\")\n",
        "```"
      ],
      "metadata": {
        "id": "IuP4fGPTzK7m"
      }
    },
    {
      "cell_type": "markdown",
      "source": [
        "###12. What is method overriding in OOP?\n",
        "\n",
        "Method overriding means redefining a parent class method in the child class.\n",
        "\n",
        "Example:\n",
        "```python\n",
        "class Parent:\n",
        "    def show(self):\n",
        "        print(\"Parent\")\n",
        "\n",
        "class Child(Parent):\n",
        "    def show(self):\n",
        "        print(\"Child\")\n",
        "```"
      ],
      "metadata": {
        "id": "MsEqT6RKzK-y"
      }
    },
    {
      "cell_type": "markdown",
      "source": [
        "###13. What is a property decorator in Python?\n",
        "\n",
        "`@property` makes a method act like an attribute, often used to access private variables cleanly.\n",
        "\n",
        "Example:\n",
        "```python\n",
        "class Circle:\n",
        "    def __init__(self, radius):\n",
        "        self._radius = radius\n",
        "\n",
        "    @property\n",
        "    def area(self):\n",
        "        return 3.14 * self._radius ** 2\n",
        "```"
      ],
      "metadata": {
        "id": "sEWHdN26zLBj"
      }
    },
    {
      "cell_type": "markdown",
      "source": [
        "###14. Why is polymorphism important in OOP?\n",
        "\n",
        "Polymorphism provides flexibility and extensibility, allowing different object types to be used interchangeably while maintaining a consistent interface."
      ],
      "metadata": {
        "id": "68OEc-PczLEC"
      }
    },
    {
      "cell_type": "markdown",
      "source": [
        "###15. What is an abstract class in Python?\n",
        "\n",
        "An abstract class cannot be instantiated and often contains one or more abstract methods that must be implemented by subclasses.\n",
        "\n",
        "Example:\n",
        "```python\n",
        "from abc import ABC, abstractmethod\n",
        "\n",
        "class Animal(ABC):\n",
        "    @abstractmethod\n",
        "    def sound(self):\n",
        "        pass\n",
        "```"
      ],
      "metadata": {
        "id": "o_jwhwZFzLG4"
      }
    },
    {
      "cell_type": "markdown",
      "source": [
        "###16. What are the advantages of OOP?\n",
        "1. Modularity and Code Organization:\n",
        "- OOP promotes the creation of modular code by organizing it into classes and objects, making it easier to manage and maintain.\n",
        "- Encapsulation, a key principle of OOP, bundles data and the methods that operate on that data within objects, enhancing code organization and reducing complexity.\n",
        "2. Code Reusability:\n",
        "- Inheritance, another core principle, allows developers to create new classes (child classes) based on existing ones (parent classes), inheriting their properties and methods.\n",
        "- This reduces code duplication and promotes code reuse, saving development time and effort.\n",
        "3. Scalability and Flexibility:\n",
        "- OOP's principles enable developers to create scalable and flexible software systems that can easily adapt to changing requirements.\n",
        "- Polymorphism, which allows objects to take on different forms, further enhances flexibility.\n",
        "4. Improved Software Maintenance and Troubleshooting:\n",
        "- Encapsulation and abstraction make it easier to understand and modify code, reducing the time and effort required for maintenance.\n",
        "- OOP's modular design also simplifies troubleshooting by isolating errors within specific objects or classes.\n",
        "5. Enhanced Security:\n",
        "- Encapsulation and abstraction can be used to control access to data and code, improving security.\n",
        "- By hiding internal implementation details, OOP can help protect sensitive information.\n",
        "6. Problem-Solving and Collaboration:\n",
        "- OOP's principles of modularity and reusability facilitate collaboration among developers by allowing them to work on different parts of a project independently.\n",
        "- OOP also promotes a more structured approach to problem-solving, breaking down complex tasks into smaller, manageable components.\n",
        "7. Improved Productivity:\n",
        "- OOP enables developers to create software more efficiently by reducing the amount of code that needs to be written from scratch.\n",
        "- The reuse of code and the ability to build upon existing frameworks further increase productivity."
      ],
      "metadata": {
        "id": "G_VrY4-1zLKY"
      }
    },
    {
      "cell_type": "markdown",
      "source": [
        "###17. What is the difference between a class variable and an instance variable?\n",
        "\n",
        "\n",
        "- Class variables are shared among all instances.\n",
        "\n",
        "- Instance variables are unique to each object.\n",
        "\n",
        "Example:\n",
        "```python\n",
        "class MyClass:\n",
        "    class_var = 10\n",
        "\n",
        "    def __init__(self, value):\n",
        "        self.instance_var = value\n",
        "```"
      ],
      "metadata": {
        "id": "KMjI64A1ty3A"
      }
    },
    {
      "cell_type": "markdown",
      "source": [
        "###18. What is multiple inheritance in Python?\n",
        "\n",
        "Multiple inheritance allows a class to inherit from more than one parent class.\n",
        "\n",
        "Example:\n",
        "```python\n",
        "class A:\n",
        "    pass\n",
        "\n",
        "class B:\n",
        "    pass\n",
        "\n",
        "class C(A, B):\n",
        "    pass\n",
        "```"
      ],
      "metadata": {
        "id": "lDuUfgnyty_D"
      }
    },
    {
      "cell_type": "markdown",
      "source": [
        "###19. Explain the purpose of `__str__` and `__repr__` methods in Python.\n",
        "Answer:\n",
        "\n",
        "- `__str__` returns a user-friendly string.\n",
        "\n",
        "- `__repr__` returns a developer-friendly string used in debugging.\n",
        "\n"
      ],
      "metadata": {
        "id": "O3Hz087StzDT"
      }
    },
    {
      "cell_type": "markdown",
      "source": [],
      "metadata": {
        "id": "11wLpE-8tzHu"
      }
    },
    {
      "cell_type": "markdown",
      "source": [
        "###20. What is the significance of the `super()` function in Python?\n",
        "\n",
        "`super()` allows you to call methods from the parent class, useful in inheritance and method overriding.\n",
        "\n",
        "Example:\n",
        "```python\n",
        "class Parent:\n",
        "    def greet(self):\n",
        "        print(\"Hello from parent\")\n",
        "\n",
        "class Child(Parent):\n",
        "    def greet(self):\n",
        "        super().greet()\n",
        "        print(\"Hello from child\")\n",
        "```"
      ],
      "metadata": {
        "id": "01L-MBGxtzS9"
      }
    },
    {
      "cell_type": "markdown",
      "source": [
        "###21. What is the significance of the `__del__` method in Python?\n",
        "\n",
        "`__del__` is the destructor method, called when an object is about to be destroyed, often used to release resources."
      ],
      "metadata": {
        "id": "pc0lhV8JtzVf"
      }
    },
    {
      "cell_type": "markdown",
      "source": [
        "###22. What is the difference between `@staticmethod` and `@classmethod`?\n",
        "Answer:\n",
        "\n",
        "- `@staticmethod` doesn’t take any implicit arguments.\n",
        "\n",
        "- `@classmethod` receives the class (`cls`) as an implicit argument."
      ],
      "metadata": {
        "id": "Q55AETWxzLMv"
      }
    },
    {
      "cell_type": "markdown",
      "source": [
        "###23. How does polymorphism work in Python with inheritance?\n",
        "\n",
        "Polymorphism in Python, specifically when used with inheritance, allows objects of different classes to respond to the same method call in a way that is specific to their class. This is achieved through a mechanism called method overriding.\n",
        "When a class inherits from another class (parent class), it also inherits its methods. However, the child class can redefine a method inherited from the parent class, providing its own implementation. This is method overriding. When a method is called on an object, Python checks the object's class for the method. If it's not found, it searches the parent class, and so on up the inheritance hierarchy. If the method is overridden in the object's class, that version is executed; otherwise, the inherited version is executed."
      ],
      "metadata": {
        "id": "8VBS3MGVzLPb"
      }
    },
    {
      "cell_type": "markdown",
      "source": [
        "###24. What is method chaining in Python OOP?\n",
        "\n",
        "Method chaining involves calling multiple methods on the same object in a single line.\n",
        "\n",
        "Example:\n",
        "```python\n",
        "class Example:\n",
        "    def first(self):\n",
        "        print(\"First\")\n",
        "        return self\n",
        "\n",
        "    def second(self):\n",
        "        print(\"Second\")\n",
        "        return self\n",
        "```"
      ],
      "metadata": {
        "id": "GzpfGtXrzLSY"
      }
    },
    {
      "cell_type": "markdown",
      "source": [
        "###25. What is the purpose of the __call__ method in Python?\n",
        "\n",
        "The __call__ method makes an object behave like a function.\n",
        "\n",
        "Example:\n",
        "```python\n",
        "class CallableClass:\n",
        "    def __call__(self):\n",
        "        print(\"Object called like a function\")\n",
        "```"
      ],
      "metadata": {
        "id": "fxud493ozLVK"
      }
    },
    {
      "cell_type": "code",
      "execution_count": null,
      "metadata": {
        "colab": {
          "base_uri": "https://localhost:8080/"
        },
        "id": "7sH0A0iR9xzO",
        "outputId": "939f939f-894e-4845-84dc-79c3910179dd"
      },
      "outputs": [
        {
          "output_type": "stream",
          "name": "stdout",
          "text": [
            "Bark!\n"
          ]
        }
      ],
      "source": [
        "# 1. Create a parent class Animal with a method speak() that prints a generic message. Create a child class Dog that overrides the speak() method to print \"Bark!\".\n",
        "\n",
        "class Animal:\n",
        "    def speak(self):\n",
        "        print(\"The animal makes a sound\")\n",
        "\n",
        "class Dog(Animal):\n",
        "    def speak(self):\n",
        "        print(\"Bark!\")\n",
        "\n",
        "# Example\n",
        "dog = Dog()\n",
        "dog.speak()"
      ]
    },
    {
      "cell_type": "code",
      "source": [
        "# 2. Write a program to create an abstract class Shape with a method area(). Derive classes Circle and Rectangle from it and implement the area() method in both.\n",
        "\n",
        "from abc import ABC, abstractmethod\n",
        "import math\n",
        "\n",
        "class Shape(ABC):\n",
        "    @abstractmethod\n",
        "    def area(self):\n",
        "        pass\n",
        "\n",
        "class Circle(Shape):\n",
        "    def __init__(self, radius):\n",
        "        self.radius = radius\n",
        "\n",
        "    def area(self):\n",
        "        return math.pi * self.radius ** 2\n",
        "\n",
        "class Rectangle(Shape):\n",
        "    def __init__(self, length, width):\n",
        "        self.length = length\n",
        "        self.width = width\n",
        "\n",
        "    def area(self):\n",
        "        return self.length * self.width\n",
        "\n",
        "# Example\n",
        "circle = Circle(5)\n",
        "rectangle = Rectangle(4, 6)\n",
        "print(circle.area())\n",
        "print(rectangle.area())"
      ],
      "metadata": {
        "colab": {
          "base_uri": "https://localhost:8080/"
        },
        "id": "XArt7Lg0A6Sn",
        "outputId": "1f1d3e10-2fe5-4846-c0bb-0c662f413e78"
      },
      "execution_count": null,
      "outputs": [
        {
          "output_type": "stream",
          "name": "stdout",
          "text": [
            "78.53981633974483\n",
            "24\n"
          ]
        }
      ]
    },
    {
      "cell_type": "code",
      "source": [
        "# 3. Implement a multi-level inheritance scenario where a class Vehicle has an attribute type. Derive a class Car and further derive a class ElectricCar that adds a battery attribute.\n",
        "\n",
        "class Vehicle:\n",
        "    def __init__(self, vehicle_type):\n",
        "        self.vehicle_type = vehicle_type\n",
        "\n",
        "class Car(Vehicle):\n",
        "    def __init__(self, vehicle_type, brand):\n",
        "        super().__init__(vehicle_type)\n",
        "        self.brand = brand\n",
        "\n",
        "class ElectricCar(Car):\n",
        "    def __init__(self, vehicle_type, brand, battery):\n",
        "        super().__init__(vehicle_type, brand)\n",
        "        self.battery = battery\n",
        "\n",
        "# Example\n",
        "ecar = ElectricCar(\"Car\", \"Tesla\", \"85 kWh\")\n",
        "print(ecar.vehicle_type, ecar.brand, ecar.battery)"
      ],
      "metadata": {
        "colab": {
          "base_uri": "https://localhost:8080/"
        },
        "id": "prHncIYc_q-b",
        "outputId": "a2db2a34-4233-49d0-b827-41f1e11f8fef"
      },
      "execution_count": null,
      "outputs": [
        {
          "output_type": "stream",
          "name": "stdout",
          "text": [
            "Car Tesla 85 kWh\n"
          ]
        }
      ]
    },
    {
      "cell_type": "code",
      "source": [
        "# 4. Demonstrate polymorphism by creating a base class Bird with a method fly(). Create two derived classes Sparrow and Penguin that override the fly() method.\n",
        "\n",
        "class Bird:\n",
        "    def fly(self):\n",
        "        print(\"Bird is flying\")\n",
        "\n",
        "class Sparrow(Bird):\n",
        "    def fly(self):\n",
        "        print(\"Sparrow can fly high\")\n",
        "\n",
        "class Penguin(Bird):\n",
        "    def fly(self):\n",
        "        print(\"Penguins can't fly\")\n",
        "\n",
        "# Example\n",
        "for bird in [Sparrow(), Penguin()]:\n",
        "    bird.fly()"
      ],
      "metadata": {
        "colab": {
          "base_uri": "https://localhost:8080/"
        },
        "id": "8InK3OukBK7Z",
        "outputId": "47ec18aa-bbea-48f8-c054-5f75b6a8d2a9"
      },
      "execution_count": null,
      "outputs": [
        {
          "output_type": "stream",
          "name": "stdout",
          "text": [
            "Sparrow can fly high\n",
            "Penguins can't fly\n"
          ]
        }
      ]
    },
    {
      "cell_type": "code",
      "source": [
        "# 5. Write a program to demonstrate encapsulation by creating a class BankAccount with private attributes balance and methods to deposit, withdraw, and check balance.\n",
        "\n",
        "class BankAccount:\n",
        "    def __init__(self):\n",
        "        self.__balance = 0\n",
        "\n",
        "    def deposit(self, amount):\n",
        "        if amount > 0:\n",
        "            self.__balance += amount\n",
        "\n",
        "    def withdraw(self, amount):\n",
        "        if amount <= self.__balance:\n",
        "            self.__balance -= amount\n",
        "        else:\n",
        "            print(\"Insufficient balance\")\n",
        "\n",
        "    def get_balance(self):\n",
        "        return self.__balance\n",
        "\n",
        "# Example\n",
        "acc = BankAccount()\n",
        "acc.deposit(500)\n",
        "acc.withdraw(100)\n",
        "print(acc.get_balance())"
      ],
      "metadata": {
        "colab": {
          "base_uri": "https://localhost:8080/"
        },
        "id": "QXf4U9p-BOYv",
        "outputId": "41213c11-0309-482a-9d92-f809270ac1f9"
      },
      "execution_count": null,
      "outputs": [
        {
          "output_type": "stream",
          "name": "stdout",
          "text": [
            "400\n"
          ]
        }
      ]
    },
    {
      "cell_type": "code",
      "source": [
        "# 6. Demonstrate runtime polymorphism using a method play() in a base class Instrument. Derive classes Guitar and Piano that implement their own version of play().\n",
        "\n",
        "class Instrument:\n",
        "    def play(self):\n",
        "        print(\"Playing an instrument\")\n",
        "\n",
        "class Guitar(Instrument):\n",
        "    def play(self):\n",
        "        print(\"Playing guitar\")\n",
        "\n",
        "class Piano(Instrument):\n",
        "    def play(self):\n",
        "        print(\"Playing piano\")\n",
        "\n",
        "# Example\n",
        "for instrument in [Guitar(), Piano()]:\n",
        "    instrument.play()"
      ],
      "metadata": {
        "colab": {
          "base_uri": "https://localhost:8080/"
        },
        "id": "TMyCK6BrBOWI",
        "outputId": "0a93ec6d-bc3d-4c31-92b3-0b454c32e9ce"
      },
      "execution_count": null,
      "outputs": [
        {
          "output_type": "stream",
          "name": "stdout",
          "text": [
            "Playing guitar\n",
            "Playing piano\n"
          ]
        }
      ]
    },
    {
      "cell_type": "code",
      "source": [
        "# 7. Create a class MathOperations with a class method add\\_numbers() to add two numbers and a static method subtract\\_numbers() to subtract two numbers.\n",
        "\n",
        "class MathOperations:\n",
        "    @classmethod\n",
        "    def add_numbers(cls, a, b):\n",
        "        return a + b\n",
        "\n",
        "    @staticmethod\n",
        "    def subtract_numbers(a, b):\n",
        "        return a - b\n",
        "\n",
        "# Example\n",
        "print(MathOperations.add_numbers(5, 3))\n",
        "print(MathOperations.subtract_numbers(10, 4))"
      ],
      "metadata": {
        "colab": {
          "base_uri": "https://localhost:8080/"
        },
        "id": "O3yNcZSDBOTU",
        "outputId": "7c30b62c-3eb6-41f3-920e-117a4282e0de"
      },
      "execution_count": null,
      "outputs": [
        {
          "output_type": "stream",
          "name": "stdout",
          "text": [
            "8\n",
            "6\n"
          ]
        }
      ]
    },
    {
      "cell_type": "code",
      "source": [
        "# 8. Implement a class Person with a class method to count the total number of persons created.\n",
        "\n",
        "class Person:\n",
        "    count = 0\n",
        "\n",
        "    def __init__(self, name):\n",
        "        self.name = name\n",
        "        Person.count += 1\n",
        "\n",
        "    @classmethod\n",
        "    def total_persons(cls):\n",
        "        return cls.count\n",
        "\n",
        "# Example\n",
        "p1 = Person(\"Alice\")\n",
        "p2 = Person(\"Bob\")\n",
        "print(Person.total_persons())"
      ],
      "metadata": {
        "colab": {
          "base_uri": "https://localhost:8080/"
        },
        "id": "2WLKjjtdBOKH",
        "outputId": "8a851241-5653-4312-9346-bddae1a5735b"
      },
      "execution_count": null,
      "outputs": [
        {
          "output_type": "stream",
          "name": "stdout",
          "text": [
            "2\n"
          ]
        }
      ]
    },
    {
      "cell_type": "code",
      "source": [
        "# 9. Write a class Fraction with attributes numerator and denominator. Override the str method to display the fraction as \"numerator/denominator\".\n",
        "\n",
        "class Fraction:\n",
        "    def __init__(self, numerator, denominator):\n",
        "        self.numerator = numerator\n",
        "        self.denominator = denominator\n",
        "\n",
        "    def __str__(self):\n",
        "        return f\"{self.numerator}/{self.denominator}\"\n",
        "\n",
        "# Example\n",
        "frac = Fraction(3, 4)\n",
        "print(frac)\n"
      ],
      "metadata": {
        "colab": {
          "base_uri": "https://localhost:8080/"
        },
        "id": "itCfqXdKBOCi",
        "outputId": "b7f56e10-0985-49f2-8640-e33e05cd8803"
      },
      "execution_count": null,
      "outputs": [
        {
          "output_type": "stream",
          "name": "stdout",
          "text": [
            "3/4\n"
          ]
        }
      ]
    },
    {
      "cell_type": "code",
      "source": [
        "# 10. Demonstrate operator overloading by creating a class Vector and overriding the add method to add two vectors.\n",
        "\n",
        "class Vector:\n",
        "    def __init__(self, x, y):\n",
        "        self.x = x\n",
        "        self.y = y\n",
        "\n",
        "    def __add__(self, other):\n",
        "        return Vector(self.x + other.x, self.y + other.y)\n",
        "\n",
        "    def __str__(self):\n",
        "        return f\"Vector({self.x}, {self.y})\"\n",
        "\n",
        "# Example\n",
        "v1 = Vector(1, 2)\n",
        "v2 = Vector(3, 4)\n",
        "print(v1 + v2)\n"
      ],
      "metadata": {
        "colab": {
          "base_uri": "https://localhost:8080/"
        },
        "id": "eyfds4ZYBN9r",
        "outputId": "1b7d9e75-dd7b-4ca8-8f0a-74bde66de6d1"
      },
      "execution_count": null,
      "outputs": [
        {
          "output_type": "stream",
          "name": "stdout",
          "text": [
            "Vector(4, 6)\n"
          ]
        }
      ]
    },
    {
      "cell_type": "code",
      "source": [
        "# 11. Create a class Person with attributes name and age. Add a method greet() that prints \"Hello, my name is {name} and I am {age} years old.\"\n",
        "\n",
        "class Person:\n",
        "    def __init__(self, name, age):\n",
        "        self.name = name\n",
        "        self.age = age\n",
        "\n",
        "    def greet(self):\n",
        "        print(f\"Hello, my name is {self.name} and I am {self.age} years old.\")\n",
        "\n",
        "# Example\n",
        "p = Person(\"John\", 30)\n",
        "p.greet()\n"
      ],
      "metadata": {
        "colab": {
          "base_uri": "https://localhost:8080/"
        },
        "id": "lVmQgLH9BN29",
        "outputId": "8b117925-f587-43f3-c844-4af85a401b4a"
      },
      "execution_count": null,
      "outputs": [
        {
          "output_type": "stream",
          "name": "stdout",
          "text": [
            "Hello, my name is John and I am 30 years old.\n"
          ]
        }
      ]
    },
    {
      "cell_type": "code",
      "source": [
        "# 12. Implement a class Student with attributes name and grades. Create a method average\\_grade() to compute the average of the grades.\n",
        "\n",
        "class Student:\n",
        "    def __init__(self, name, grades):\n",
        "        self.name = name\n",
        "        self.grades = grades\n",
        "\n",
        "    def average_grade(self):\n",
        "        return sum(self.grades) / len(self.grades)\n",
        "\n",
        "# Example\n",
        "s = Student(\"Emily\", [85, 90, 78])\n",
        "print(s.average_grade())"
      ],
      "metadata": {
        "colab": {
          "base_uri": "https://localhost:8080/"
        },
        "id": "xl4Gm7eeBNdn",
        "outputId": "9b89cb27-4008-419d-ec87-24a3b4bec2c3"
      },
      "execution_count": null,
      "outputs": [
        {
          "output_type": "stream",
          "name": "stdout",
          "text": [
            "84.33333333333333\n"
          ]
        }
      ]
    },
    {
      "cell_type": "code",
      "source": [
        "# 13. Create a class Rectangle with methods set\\_dimensions() to set the dimensions and area() to calculate the area.\n",
        "\n",
        "class Rectangle:\n",
        "    def set_dimensions(self, length, width):\n",
        "        self.length = length\n",
        "        self.width = width\n",
        "\n",
        "    def area(self):\n",
        "        return self.length * self.width\n",
        "\n",
        "# Example\n",
        "r = Rectangle()\n",
        "r.set_dimensions(5, 3)\n",
        "print(r.area())"
      ],
      "metadata": {
        "colab": {
          "base_uri": "https://localhost:8080/"
        },
        "id": "bcC1-KAWBrLC",
        "outputId": "d5b4dc67-b7b2-4d7b-ddc3-12349f4b0b26"
      },
      "execution_count": null,
      "outputs": [
        {
          "output_type": "stream",
          "name": "stdout",
          "text": [
            "15\n"
          ]
        }
      ]
    },
    {
      "cell_type": "code",
      "source": [
        "# 14. Create a class Employee with a method calculate\\_salary() that computes the salary based on hours worked and hourly rate. Create a derived class Manager that adds a bonus to the salary.\n",
        "\n",
        "class Employee:\n",
        "    def calculate_salary(self, hours, rate):\n",
        "        return hours * rate\n",
        "\n",
        "class Manager(Employee):\n",
        "    def calculate_salary(self, hours, rate, bonus):\n",
        "        base_salary = super().calculate_salary(hours, rate)\n",
        "        return base_salary + bonus\n",
        "\n",
        "# Example\n",
        "m = Manager()\n",
        "print(m.calculate_salary(40, 20, 100))"
      ],
      "metadata": {
        "colab": {
          "base_uri": "https://localhost:8080/"
        },
        "id": "82LpgVrGBrNh",
        "outputId": "b0c73517-db5d-41f2-9e23-8c796623b746"
      },
      "execution_count": null,
      "outputs": [
        {
          "output_type": "stream",
          "name": "stdout",
          "text": [
            "900\n"
          ]
        }
      ]
    },
    {
      "cell_type": "code",
      "source": [
        "# 15. Create a class Product with attributes name, price, and quantity. Implement a method total\\_price() that calculates the total price of the product.\n",
        "\n",
        "class Product:\n",
        "    def __init__(self, name, price, quantity):\n",
        "        self.name = name\n",
        "        self.price = price\n",
        "        self.quantity = quantity\n",
        "\n",
        "    def total_price(self):\n",
        "        return self.price * self.quantity\n",
        "\n",
        "# Example\n",
        "p = Product(\"Laptop\", 800, 2)\n",
        "print(p.total_price())"
      ],
      "metadata": {
        "colab": {
          "base_uri": "https://localhost:8080/"
        },
        "id": "haG38Q1VBrP4",
        "outputId": "b0053c4c-64b2-45c9-82ac-2a22814daf9f"
      },
      "execution_count": null,
      "outputs": [
        {
          "output_type": "stream",
          "name": "stdout",
          "text": [
            "1600\n"
          ]
        }
      ]
    },
    {
      "cell_type": "code",
      "source": [
        "# 16. Create a class Animal with an abstract method sound(). Create two derived classes Cow and Sheep that implement the sound() method.\n",
        "\n",
        "from abc import ABC, abstractmethod\n",
        "\n",
        "class Animal(ABC):\n",
        "    @abstractmethod\n",
        "    def sound(self):\n",
        "        pass\n",
        "\n",
        "class Cow(Animal):\n",
        "    def sound(self):\n",
        "        return \"Moo\"\n",
        "\n",
        "class Sheep(Animal):\n",
        "    def sound(self):\n",
        "        return \"Baa\"\n",
        "\n",
        "# Example\n",
        "c = Cow()\n",
        "s = Sheep()\n",
        "print(c.sound())\n",
        "print(s.sound())"
      ],
      "metadata": {
        "colab": {
          "base_uri": "https://localhost:8080/"
        },
        "id": "UeZ3dxFtBrSX",
        "outputId": "69e2b7a7-45aa-4611-fdd1-393c4a543b2f"
      },
      "execution_count": null,
      "outputs": [
        {
          "output_type": "stream",
          "name": "stdout",
          "text": [
            "Moo\n",
            "Baa\n"
          ]
        }
      ]
    },
    {
      "cell_type": "code",
      "source": [
        "# 17. Create a class Book with attributes title, author, and year\\_published. Add a method get\\_book\\_info() that returns a formatted string with the book's details.\n",
        "\n",
        "class Book:\n",
        "    def __init__(self, title, author, year_published):\n",
        "        self.title = title\n",
        "        self.author = author\n",
        "        self.year_published = year_published\n",
        "\n",
        "    def get_book_info(self):\n",
        "        return f\"{self.title} by {self.author}, published in {self.year_published}\"\n",
        "\n",
        "# Example\n",
        "book = Book(\"1984\", \"George Orwell\", 1949)\n",
        "print(book.get_book_info())\n"
      ],
      "metadata": {
        "colab": {
          "base_uri": "https://localhost:8080/"
        },
        "id": "ZsErVQnCBrUb",
        "outputId": "1dda8999-9553-45c2-f445-cb65be716d59"
      },
      "execution_count": null,
      "outputs": [
        {
          "output_type": "stream",
          "name": "stdout",
          "text": [
            "1984 by George Orwell, published in 1949\n"
          ]
        }
      ]
    },
    {
      "cell_type": "code",
      "source": [
        "# 18. Create a class House with attributes address and price. Create a derived class Mansion that adds an attribute number\\_of\\_rooms.\n",
        "\n",
        "class House:\n",
        "    def __init__(self, address, price):\n",
        "        self.address = address\n",
        "        self.price = price\n",
        "\n",
        "class Mansion(House):\n",
        "    def __init__(self, address, price, number_of_rooms):\n",
        "        super().__init__(address, price)\n",
        "        self.number_of_rooms = number_of_rooms\n",
        "\n",
        "# Example\n",
        "m = Mansion(\"123 Beverly Hills\", 5000000, 12)\n",
        "print(m.address, m.price, m.number_of_rooms)"
      ],
      "metadata": {
        "colab": {
          "base_uri": "https://localhost:8080/"
        },
        "id": "5NxAun_zBrWu",
        "outputId": "5c86934d-d53b-4486-c11f-4ea31235ceb3"
      },
      "execution_count": null,
      "outputs": [
        {
          "output_type": "stream",
          "name": "stdout",
          "text": [
            "123 Beverly Hills 5000000 12\n"
          ]
        }
      ]
    }
  ]
}